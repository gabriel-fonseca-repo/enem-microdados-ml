{
 "cells": [
  {
   "cell_type": "markdown",
   "metadata": {},
   "source": [
    "## Atuação de redes neurais na base de dados do ENEM.\n",
    "\n",
    "##### Alunos:\n",
    "\n",
    "-   Gabriel Fonseca (2111066)\n",
    "-   Yasmim Santos (2116925)\n",
    "-   Alejandro Elias (2111189)\n",
    "-   Pedro Lucas (2111131)\n",
    "\n",
    "Base de dados escolhida - Exame Nacional do Ensino Médio (Enem): https://basedosdados.org/dataset/3e9c8804-c31c-4f48-9a45-d67f1c21a859\n"
   ]
  },
  {
   "cell_type": "code",
   "execution_count": 1,
   "metadata": {},
   "outputs": [],
   "source": [
    "import pandas as pd\n",
    "import numpy as np\n",
    "import plotly.express as px\n",
    "\n",
    "from sklearn.preprocessing import MinMaxScaler\n",
    "from sklearn.decomposition import PCA\n",
    "from sklearn.cluster import KMeans\n",
    "from sklearn.metrics import silhouette_score\n",
    "from yellowbrick.cluster import KElbowVisualizer"
   ]
  },
  {
   "cell_type": "markdown",
   "metadata": {},
   "source": [
    "### Preparando os dados para utilização no modelo (Redimensionamento, Encodificação e Agrupamento)\n"
   ]
  },
  {
   "cell_type": "code",
   "execution_count": 2,
   "metadata": {},
   "outputs": [
    {
     "data": {
      "text/html": [
       "<div>\n",
       "<style scoped>\n",
       "    .dataframe tbody tr th:only-of-type {\n",
       "        vertical-align: middle;\n",
       "    }\n",
       "\n",
       "    .dataframe tbody tr th {\n",
       "        vertical-align: top;\n",
       "    }\n",
       "\n",
       "    .dataframe thead th {\n",
       "        text-align: right;\n",
       "    }\n",
       "</style>\n",
       "<table border=\"1\" class=\"dataframe\">\n",
       "  <thead>\n",
       "    <tr style=\"text-align: right;\">\n",
       "      <th></th>\n",
       "      <th>cn_norm</th>\n",
       "      <th>ch_norm</th>\n",
       "      <th>lc_norm</th>\n",
       "      <th>ma_norm</th>\n",
       "      <th>nr_norm</th>\n",
       "      <th>q_formacao_pai_B</th>\n",
       "      <th>q_formacao_pai_C</th>\n",
       "      <th>q_formacao_pai_D</th>\n",
       "      <th>q_formacao_pai_E</th>\n",
       "      <th>q_formacao_pai_F</th>\n",
       "      <th>...</th>\n",
       "      <th>q_renda_familia_H</th>\n",
       "      <th>q_renda_familia_I</th>\n",
       "      <th>q_renda_familia_J</th>\n",
       "      <th>q_renda_familia_K</th>\n",
       "      <th>q_renda_familia_L</th>\n",
       "      <th>q_renda_familia_M</th>\n",
       "      <th>q_renda_familia_N</th>\n",
       "      <th>q_renda_familia_O</th>\n",
       "      <th>q_renda_familia_P</th>\n",
       "      <th>q_renda_familia_Q</th>\n",
       "    </tr>\n",
       "  </thead>\n",
       "  <tbody>\n",
       "    <tr>\n",
       "      <th>0</th>\n",
       "      <td>0.420980</td>\n",
       "      <td>0.506492</td>\n",
       "      <td>0.465539</td>\n",
       "      <td>0.333736</td>\n",
       "      <td>0.38</td>\n",
       "      <td>1</td>\n",
       "      <td>0</td>\n",
       "      <td>0</td>\n",
       "      <td>0</td>\n",
       "      <td>0</td>\n",
       "      <td>...</td>\n",
       "      <td>0</td>\n",
       "      <td>0</td>\n",
       "      <td>0</td>\n",
       "      <td>0</td>\n",
       "      <td>0</td>\n",
       "      <td>0</td>\n",
       "      <td>0</td>\n",
       "      <td>0</td>\n",
       "      <td>0</td>\n",
       "      <td>0</td>\n",
       "    </tr>\n",
       "    <tr>\n",
       "      <th>1</th>\n",
       "      <td>0.587628</td>\n",
       "      <td>0.738349</td>\n",
       "      <td>0.686738</td>\n",
       "      <td>0.553072</td>\n",
       "      <td>0.76</td>\n",
       "      <td>0</td>\n",
       "      <td>0</td>\n",
       "      <td>0</td>\n",
       "      <td>0</td>\n",
       "      <td>0</td>\n",
       "      <td>...</td>\n",
       "      <td>0</td>\n",
       "      <td>0</td>\n",
       "      <td>0</td>\n",
       "      <td>0</td>\n",
       "      <td>0</td>\n",
       "      <td>0</td>\n",
       "      <td>0</td>\n",
       "      <td>0</td>\n",
       "      <td>0</td>\n",
       "      <td>0</td>\n",
       "    </tr>\n",
       "    <tr>\n",
       "      <th>2</th>\n",
       "      <td>0.540342</td>\n",
       "      <td>0.602017</td>\n",
       "      <td>0.578751</td>\n",
       "      <td>0.353273</td>\n",
       "      <td>0.58</td>\n",
       "      <td>1</td>\n",
       "      <td>0</td>\n",
       "      <td>0</td>\n",
       "      <td>0</td>\n",
       "      <td>0</td>\n",
       "      <td>...</td>\n",
       "      <td>0</td>\n",
       "      <td>0</td>\n",
       "      <td>0</td>\n",
       "      <td>0</td>\n",
       "      <td>0</td>\n",
       "      <td>0</td>\n",
       "      <td>0</td>\n",
       "      <td>0</td>\n",
       "      <td>0</td>\n",
       "      <td>0</td>\n",
       "    </tr>\n",
       "    <tr>\n",
       "      <th>3</th>\n",
       "      <td>0.565362</td>\n",
       "      <td>0.743334</td>\n",
       "      <td>0.688231</td>\n",
       "      <td>0.654079</td>\n",
       "      <td>0.84</td>\n",
       "      <td>0</td>\n",
       "      <td>0</td>\n",
       "      <td>0</td>\n",
       "      <td>0</td>\n",
       "      <td>0</td>\n",
       "      <td>...</td>\n",
       "      <td>0</td>\n",
       "      <td>0</td>\n",
       "      <td>0</td>\n",
       "      <td>0</td>\n",
       "      <td>0</td>\n",
       "      <td>0</td>\n",
       "      <td>0</td>\n",
       "      <td>0</td>\n",
       "      <td>0</td>\n",
       "      <td>0</td>\n",
       "    </tr>\n",
       "    <tr>\n",
       "      <th>4</th>\n",
       "      <td>0.543211</td>\n",
       "      <td>0.618363</td>\n",
       "      <td>0.551505</td>\n",
       "      <td>0.450554</td>\n",
       "      <td>0.40</td>\n",
       "      <td>0</td>\n",
       "      <td>0</td>\n",
       "      <td>0</td>\n",
       "      <td>0</td>\n",
       "      <td>0</td>\n",
       "      <td>...</td>\n",
       "      <td>0</td>\n",
       "      <td>0</td>\n",
       "      <td>0</td>\n",
       "      <td>0</td>\n",
       "      <td>0</td>\n",
       "      <td>0</td>\n",
       "      <td>0</td>\n",
       "      <td>0</td>\n",
       "      <td>0</td>\n",
       "      <td>0</td>\n",
       "    </tr>\n",
       "    <tr>\n",
       "      <th>...</th>\n",
       "      <td>...</td>\n",
       "      <td>...</td>\n",
       "      <td>...</td>\n",
       "      <td>...</td>\n",
       "      <td>...</td>\n",
       "      <td>...</td>\n",
       "      <td>...</td>\n",
       "      <td>...</td>\n",
       "      <td>...</td>\n",
       "      <td>...</td>\n",
       "      <td>...</td>\n",
       "      <td>...</td>\n",
       "      <td>...</td>\n",
       "      <td>...</td>\n",
       "      <td>...</td>\n",
       "      <td>...</td>\n",
       "      <td>...</td>\n",
       "      <td>...</td>\n",
       "      <td>...</td>\n",
       "      <td>...</td>\n",
       "      <td>...</td>\n",
       "    </tr>\n",
       "    <tr>\n",
       "      <th>176574</th>\n",
       "      <td>0.458051</td>\n",
       "      <td>0.353698</td>\n",
       "      <td>0.349216</td>\n",
       "      <td>0.372004</td>\n",
       "      <td>0.16</td>\n",
       "      <td>0</td>\n",
       "      <td>0</td>\n",
       "      <td>0</td>\n",
       "      <td>0</td>\n",
       "      <td>0</td>\n",
       "      <td>...</td>\n",
       "      <td>0</td>\n",
       "      <td>0</td>\n",
       "      <td>0</td>\n",
       "      <td>0</td>\n",
       "      <td>0</td>\n",
       "      <td>0</td>\n",
       "      <td>0</td>\n",
       "      <td>0</td>\n",
       "      <td>0</td>\n",
       "      <td>0</td>\n",
       "    </tr>\n",
       "    <tr>\n",
       "      <th>176575</th>\n",
       "      <td>0.836681</td>\n",
       "      <td>0.829121</td>\n",
       "      <td>0.869370</td>\n",
       "      <td>0.861631</td>\n",
       "      <td>0.98</td>\n",
       "      <td>0</td>\n",
       "      <td>0</td>\n",
       "      <td>0</td>\n",
       "      <td>0</td>\n",
       "      <td>1</td>\n",
       "      <td>...</td>\n",
       "      <td>1</td>\n",
       "      <td>0</td>\n",
       "      <td>0</td>\n",
       "      <td>0</td>\n",
       "      <td>0</td>\n",
       "      <td>0</td>\n",
       "      <td>0</td>\n",
       "      <td>0</td>\n",
       "      <td>0</td>\n",
       "      <td>0</td>\n",
       "    </tr>\n",
       "    <tr>\n",
       "      <th>176576</th>\n",
       "      <td>0.715024</td>\n",
       "      <td>0.773012</td>\n",
       "      <td>0.802812</td>\n",
       "      <td>0.829305</td>\n",
       "      <td>0.98</td>\n",
       "      <td>0</td>\n",
       "      <td>0</td>\n",
       "      <td>0</td>\n",
       "      <td>0</td>\n",
       "      <td>0</td>\n",
       "      <td>...</td>\n",
       "      <td>0</td>\n",
       "      <td>0</td>\n",
       "      <td>0</td>\n",
       "      <td>0</td>\n",
       "      <td>0</td>\n",
       "      <td>0</td>\n",
       "      <td>0</td>\n",
       "      <td>0</td>\n",
       "      <td>0</td>\n",
       "      <td>1</td>\n",
       "    </tr>\n",
       "    <tr>\n",
       "      <th>176577</th>\n",
       "      <td>0.569953</td>\n",
       "      <td>0.465917</td>\n",
       "      <td>0.439662</td>\n",
       "      <td>0.425579</td>\n",
       "      <td>0.28</td>\n",
       "      <td>0</td>\n",
       "      <td>0</td>\n",
       "      <td>0</td>\n",
       "      <td>0</td>\n",
       "      <td>0</td>\n",
       "      <td>...</td>\n",
       "      <td>0</td>\n",
       "      <td>0</td>\n",
       "      <td>0</td>\n",
       "      <td>0</td>\n",
       "      <td>0</td>\n",
       "      <td>0</td>\n",
       "      <td>0</td>\n",
       "      <td>0</td>\n",
       "      <td>0</td>\n",
       "      <td>0</td>\n",
       "    </tr>\n",
       "    <tr>\n",
       "      <th>176578</th>\n",
       "      <td>0.802250</td>\n",
       "      <td>0.763969</td>\n",
       "      <td>0.745459</td>\n",
       "      <td>0.751360</td>\n",
       "      <td>0.98</td>\n",
       "      <td>1</td>\n",
       "      <td>0</td>\n",
       "      <td>0</td>\n",
       "      <td>0</td>\n",
       "      <td>0</td>\n",
       "      <td>...</td>\n",
       "      <td>0</td>\n",
       "      <td>0</td>\n",
       "      <td>0</td>\n",
       "      <td>0</td>\n",
       "      <td>0</td>\n",
       "      <td>0</td>\n",
       "      <td>0</td>\n",
       "      <td>0</td>\n",
       "      <td>0</td>\n",
       "      <td>0</td>\n",
       "    </tr>\n",
       "  </tbody>\n",
       "</table>\n",
       "<p>176579 rows × 35 columns</p>\n",
       "</div>"
      ],
      "text/plain": [
       "         cn_norm   ch_norm   lc_norm   ma_norm  nr_norm  q_formacao_pai_B  \\\n",
       "0       0.420980  0.506492  0.465539  0.333736     0.38                 1   \n",
       "1       0.587628  0.738349  0.686738  0.553072     0.76                 0   \n",
       "2       0.540342  0.602017  0.578751  0.353273     0.58                 1   \n",
       "3       0.565362  0.743334  0.688231  0.654079     0.84                 0   \n",
       "4       0.543211  0.618363  0.551505  0.450554     0.40                 0   \n",
       "...          ...       ...       ...       ...      ...               ...   \n",
       "176574  0.458051  0.353698  0.349216  0.372004     0.16                 0   \n",
       "176575  0.836681  0.829121  0.869370  0.861631     0.98                 0   \n",
       "176576  0.715024  0.773012  0.802812  0.829305     0.98                 0   \n",
       "176577  0.569953  0.465917  0.439662  0.425579     0.28                 0   \n",
       "176578  0.802250  0.763969  0.745459  0.751360     0.98                 1   \n",
       "\n",
       "        q_formacao_pai_C  q_formacao_pai_D  q_formacao_pai_E  \\\n",
       "0                      0                 0                 0   \n",
       "1                      0                 0                 0   \n",
       "2                      0                 0                 0   \n",
       "3                      0                 0                 0   \n",
       "4                      0                 0                 0   \n",
       "...                  ...               ...               ...   \n",
       "176574                 0                 0                 0   \n",
       "176575                 0                 0                 0   \n",
       "176576                 0                 0                 0   \n",
       "176577                 0                 0                 0   \n",
       "176578                 0                 0                 0   \n",
       "\n",
       "        q_formacao_pai_F  ...  q_renda_familia_H  q_renda_familia_I  \\\n",
       "0                      0  ...                  0                  0   \n",
       "1                      0  ...                  0                  0   \n",
       "2                      0  ...                  0                  0   \n",
       "3                      0  ...                  0                  0   \n",
       "4                      0  ...                  0                  0   \n",
       "...                  ...  ...                ...                ...   \n",
       "176574                 0  ...                  0                  0   \n",
       "176575                 1  ...                  1                  0   \n",
       "176576                 0  ...                  0                  0   \n",
       "176577                 0  ...                  0                  0   \n",
       "176578                 0  ...                  0                  0   \n",
       "\n",
       "        q_renda_familia_J  q_renda_familia_K  q_renda_familia_L  \\\n",
       "0                       0                  0                  0   \n",
       "1                       0                  0                  0   \n",
       "2                       0                  0                  0   \n",
       "3                       0                  0                  0   \n",
       "4                       0                  0                  0   \n",
       "...                   ...                ...                ...   \n",
       "176574                  0                  0                  0   \n",
       "176575                  0                  0                  0   \n",
       "176576                  0                  0                  0   \n",
       "176577                  0                  0                  0   \n",
       "176578                  0                  0                  0   \n",
       "\n",
       "        q_renda_familia_M  q_renda_familia_N  q_renda_familia_O  \\\n",
       "0                       0                  0                  0   \n",
       "1                       0                  0                  0   \n",
       "2                       0                  0                  0   \n",
       "3                       0                  0                  0   \n",
       "4                       0                  0                  0   \n",
       "...                   ...                ...                ...   \n",
       "176574                  0                  0                  0   \n",
       "176575                  0                  0                  0   \n",
       "176576                  0                  0                  0   \n",
       "176577                  0                  0                  0   \n",
       "176578                  0                  0                  0   \n",
       "\n",
       "        q_renda_familia_P  q_renda_familia_Q  \n",
       "0                       0                  0  \n",
       "1                       0                  0  \n",
       "2                       0                  0  \n",
       "3                       0                  0  \n",
       "4                       0                  0  \n",
       "...                   ...                ...  \n",
       "176574                  0                  0  \n",
       "176575                  0                  0  \n",
       "176576                  0                  1  \n",
       "176577                  0                  0  \n",
       "176578                  0                  0  \n",
       "\n",
       "[176579 rows x 35 columns]"
      ]
     },
     "execution_count": 2,
     "metadata": {},
     "output_type": "execute_result"
    }
   ],
   "source": [
    "df_enem = pd.read_csv(\n",
    "    f\"../data/out/enem-dados-tratados.csv\",\n",
    "    dtype={\n",
    "        \"id_inscricao\": np.int64,\n",
    "        \"ensino\": int,\n",
    "        \"nota_ciencias_natureza\": float,\n",
    "        \"nota_ciencias_humanas\": float,\n",
    "        \"nota_linguagens_codigos\": float,\n",
    "        \"nota_matematica\": float,\n",
    "        \"nota_redacao\": float,\n",
    "        \"q_formacao_pai\": str,\n",
    "        \"q_formacao_mae\": str,\n",
    "        \"q_renda_familia\": str,\n",
    "    },\n",
    ")\n",
    "\n",
    "colunas_red = [\n",
    "    \"nota_ciencias_natureza\",\n",
    "    \"nota_ciencias_humanas\",\n",
    "    \"nota_linguagens_codigos\",\n",
    "    \"nota_matematica\",\n",
    "    \"nota_redacao\",\n",
    "]\n",
    "\n",
    "colunas_red_norm = [\n",
    "    \"cn_norm\",\n",
    "    \"ch_norm\",\n",
    "    \"lc_norm\",\n",
    "    \"ma_norm\",\n",
    "    \"nr_norm\",\n",
    "]\n",
    "\n",
    "mm_scaler = MinMaxScaler()\n",
    "df_enem[colunas_red_norm] = mm_scaler.fit_transform(df_enem[colunas_red])\n",
    "\n",
    "for col, col_norm in zip(colunas_red, colunas_red_norm):\n",
    "    df_enem = df_enem[df_enem[col] != 0.0]\n",
    "    df_enem = df_enem[df_enem[col_norm] != 0.0]\n",
    "\n",
    "colunas_para_encodificar = [\n",
    "    \"ensino\",\n",
    "    \"q_formacao_pai\",\n",
    "    \"q_formacao_mae\",\n",
    "    \"q_renda_familia\",\n",
    "]\n",
    "\n",
    "dummies = pd.get_dummies(\n",
    "    df_enem[colunas_para_encodificar], drop_first=True, dtype=np.int64\n",
    ")\n",
    "df_enem = pd.concat([df_enem, dummies], axis=1)\n",
    "\n",
    "df_enem = df_enem.drop(\n",
    "    columns=[\n",
    "        \"id_inscricao\",\n",
    "        \"ensino\",\n",
    "        \"nota_ciencias_natureza\",\n",
    "        \"nota_ciencias_humanas\",\n",
    "        \"nota_linguagens_codigos\",\n",
    "        \"nota_matematica\",\n",
    "        \"nota_redacao\",\n",
    "        \"q_formacao_pai\",\n",
    "        \"q_formacao_mae\",\n",
    "        \"q_renda_familia\",\n",
    "        \"ano\",\n",
    "    ]\n",
    ")\n",
    "\n",
    "df_enem.dropna(inplace=True)\n",
    "df_enem.reset_index(drop=True, inplace=True)\n",
    "\n",
    "kmeans_r_state = 43\n",
    "pca_r_state = 59\n",
    "\n",
    "df_enem"
   ]
  },
  {
   "cell_type": "markdown",
   "metadata": {},
   "source": [
    "### Observando os intervalos de possíveis números de componentes e selecionando um\n"
   ]
  },
  {
   "cell_type": "code",
   "execution_count": 4,
   "metadata": {},
   "outputs": [
    {
     "data": {
      "application/vnd.plotly.v1+json": {
       "config": {
        "plotlyServerURL": "https://plot.ly"
       },
       "data": [
        {
         "fillpattern": {
          "shape": ""
         },
         "hovertemplate": "# Components=%{x}<br>Explained Variance=%{y}<extra></extra>",
         "legendgroup": "",
         "line": {
          "color": "#636efa"
         },
         "marker": {
          "symbol": "circle"
         },
         "mode": "lines",
         "name": "",
         "orientation": "v",
         "showlegend": false,
         "stackgroup": "1",
         "type": "scatter",
         "x": [
          1,
          2,
          3,
          4,
          5,
          6,
          7,
          8,
          9,
          10,
          11,
          12,
          13,
          14,
          15,
          16,
          17,
          18,
          19,
          20,
          21,
          22,
          23,
          24,
          25,
          26,
          27,
          28,
          29,
          30,
          31,
          32,
          33,
          34,
          35
         ],
         "xaxis": "x",
         "y": [
          0.15627371304907975,
          0.2547037030057528,
          0.349413113620641,
          0.42262605792942015,
          0.4797776843173177,
          0.5322268902017244,
          0.5809824043383428,
          0.6259062984473893,
          0.6700952343532703,
          0.7134856370646485,
          0.749971691551768,
          0.7781958245650343,
          0.8053612878755538,
          0.8298688708216487,
          0.850419135970881,
          0.8697895304355077,
          0.8868846240966413,
          0.9018083479340939,
          0.9152219041216157,
          0.9269686982357018,
          0.9377920157709025,
          0.9464526843534536,
          0.9543415026020544,
          0.9608927187776449,
          0.9671684040543476,
          0.9733519808284933,
          0.9784877297658395,
          0.9831610514934382,
          0.9872218813625369,
          0.9911339885992861,
          0.9948363847704775,
          0.9967150091275132,
          0.9978585868632887,
          0.9989631050714303,
          1.0000000000000002
         ],
         "yaxis": "y"
        }
       ],
       "layout": {
        "legend": {
         "tracegroupgap": 0
        },
        "template": {
         "data": {
          "bar": [
           {
            "error_x": {
             "color": "#2a3f5f"
            },
            "error_y": {
             "color": "#2a3f5f"
            },
            "marker": {
             "line": {
              "color": "#E5ECF6",
              "width": 0.5
             },
             "pattern": {
              "fillmode": "overlay",
              "size": 10,
              "solidity": 0.2
             }
            },
            "type": "bar"
           }
          ],
          "barpolar": [
           {
            "marker": {
             "line": {
              "color": "#E5ECF6",
              "width": 0.5
             },
             "pattern": {
              "fillmode": "overlay",
              "size": 10,
              "solidity": 0.2
             }
            },
            "type": "barpolar"
           }
          ],
          "carpet": [
           {
            "aaxis": {
             "endlinecolor": "#2a3f5f",
             "gridcolor": "white",
             "linecolor": "white",
             "minorgridcolor": "white",
             "startlinecolor": "#2a3f5f"
            },
            "baxis": {
             "endlinecolor": "#2a3f5f",
             "gridcolor": "white",
             "linecolor": "white",
             "minorgridcolor": "white",
             "startlinecolor": "#2a3f5f"
            },
            "type": "carpet"
           }
          ],
          "choropleth": [
           {
            "colorbar": {
             "outlinewidth": 0,
             "ticks": ""
            },
            "type": "choropleth"
           }
          ],
          "contour": [
           {
            "colorbar": {
             "outlinewidth": 0,
             "ticks": ""
            },
            "colorscale": [
             [
              0,
              "#0d0887"
             ],
             [
              0.1111111111111111,
              "#46039f"
             ],
             [
              0.2222222222222222,
              "#7201a8"
             ],
             [
              0.3333333333333333,
              "#9c179e"
             ],
             [
              0.4444444444444444,
              "#bd3786"
             ],
             [
              0.5555555555555556,
              "#d8576b"
             ],
             [
              0.6666666666666666,
              "#ed7953"
             ],
             [
              0.7777777777777778,
              "#fb9f3a"
             ],
             [
              0.8888888888888888,
              "#fdca26"
             ],
             [
              1,
              "#f0f921"
             ]
            ],
            "type": "contour"
           }
          ],
          "contourcarpet": [
           {
            "colorbar": {
             "outlinewidth": 0,
             "ticks": ""
            },
            "type": "contourcarpet"
           }
          ],
          "heatmap": [
           {
            "colorbar": {
             "outlinewidth": 0,
             "ticks": ""
            },
            "colorscale": [
             [
              0,
              "#0d0887"
             ],
             [
              0.1111111111111111,
              "#46039f"
             ],
             [
              0.2222222222222222,
              "#7201a8"
             ],
             [
              0.3333333333333333,
              "#9c179e"
             ],
             [
              0.4444444444444444,
              "#bd3786"
             ],
             [
              0.5555555555555556,
              "#d8576b"
             ],
             [
              0.6666666666666666,
              "#ed7953"
             ],
             [
              0.7777777777777778,
              "#fb9f3a"
             ],
             [
              0.8888888888888888,
              "#fdca26"
             ],
             [
              1,
              "#f0f921"
             ]
            ],
            "type": "heatmap"
           }
          ],
          "heatmapgl": [
           {
            "colorbar": {
             "outlinewidth": 0,
             "ticks": ""
            },
            "colorscale": [
             [
              0,
              "#0d0887"
             ],
             [
              0.1111111111111111,
              "#46039f"
             ],
             [
              0.2222222222222222,
              "#7201a8"
             ],
             [
              0.3333333333333333,
              "#9c179e"
             ],
             [
              0.4444444444444444,
              "#bd3786"
             ],
             [
              0.5555555555555556,
              "#d8576b"
             ],
             [
              0.6666666666666666,
              "#ed7953"
             ],
             [
              0.7777777777777778,
              "#fb9f3a"
             ],
             [
              0.8888888888888888,
              "#fdca26"
             ],
             [
              1,
              "#f0f921"
             ]
            ],
            "type": "heatmapgl"
           }
          ],
          "histogram": [
           {
            "marker": {
             "pattern": {
              "fillmode": "overlay",
              "size": 10,
              "solidity": 0.2
             }
            },
            "type": "histogram"
           }
          ],
          "histogram2d": [
           {
            "colorbar": {
             "outlinewidth": 0,
             "ticks": ""
            },
            "colorscale": [
             [
              0,
              "#0d0887"
             ],
             [
              0.1111111111111111,
              "#46039f"
             ],
             [
              0.2222222222222222,
              "#7201a8"
             ],
             [
              0.3333333333333333,
              "#9c179e"
             ],
             [
              0.4444444444444444,
              "#bd3786"
             ],
             [
              0.5555555555555556,
              "#d8576b"
             ],
             [
              0.6666666666666666,
              "#ed7953"
             ],
             [
              0.7777777777777778,
              "#fb9f3a"
             ],
             [
              0.8888888888888888,
              "#fdca26"
             ],
             [
              1,
              "#f0f921"
             ]
            ],
            "type": "histogram2d"
           }
          ],
          "histogram2dcontour": [
           {
            "colorbar": {
             "outlinewidth": 0,
             "ticks": ""
            },
            "colorscale": [
             [
              0,
              "#0d0887"
             ],
             [
              0.1111111111111111,
              "#46039f"
             ],
             [
              0.2222222222222222,
              "#7201a8"
             ],
             [
              0.3333333333333333,
              "#9c179e"
             ],
             [
              0.4444444444444444,
              "#bd3786"
             ],
             [
              0.5555555555555556,
              "#d8576b"
             ],
             [
              0.6666666666666666,
              "#ed7953"
             ],
             [
              0.7777777777777778,
              "#fb9f3a"
             ],
             [
              0.8888888888888888,
              "#fdca26"
             ],
             [
              1,
              "#f0f921"
             ]
            ],
            "type": "histogram2dcontour"
           }
          ],
          "mesh3d": [
           {
            "colorbar": {
             "outlinewidth": 0,
             "ticks": ""
            },
            "type": "mesh3d"
           }
          ],
          "parcoords": [
           {
            "line": {
             "colorbar": {
              "outlinewidth": 0,
              "ticks": ""
             }
            },
            "type": "parcoords"
           }
          ],
          "pie": [
           {
            "automargin": true,
            "type": "pie"
           }
          ],
          "scatter": [
           {
            "fillpattern": {
             "fillmode": "overlay",
             "size": 10,
             "solidity": 0.2
            },
            "type": "scatter"
           }
          ],
          "scatter3d": [
           {
            "line": {
             "colorbar": {
              "outlinewidth": 0,
              "ticks": ""
             }
            },
            "marker": {
             "colorbar": {
              "outlinewidth": 0,
              "ticks": ""
             }
            },
            "type": "scatter3d"
           }
          ],
          "scattercarpet": [
           {
            "marker": {
             "colorbar": {
              "outlinewidth": 0,
              "ticks": ""
             }
            },
            "type": "scattercarpet"
           }
          ],
          "scattergeo": [
           {
            "marker": {
             "colorbar": {
              "outlinewidth": 0,
              "ticks": ""
             }
            },
            "type": "scattergeo"
           }
          ],
          "scattergl": [
           {
            "marker": {
             "colorbar": {
              "outlinewidth": 0,
              "ticks": ""
             }
            },
            "type": "scattergl"
           }
          ],
          "scattermapbox": [
           {
            "marker": {
             "colorbar": {
              "outlinewidth": 0,
              "ticks": ""
             }
            },
            "type": "scattermapbox"
           }
          ],
          "scatterpolar": [
           {
            "marker": {
             "colorbar": {
              "outlinewidth": 0,
              "ticks": ""
             }
            },
            "type": "scatterpolar"
           }
          ],
          "scatterpolargl": [
           {
            "marker": {
             "colorbar": {
              "outlinewidth": 0,
              "ticks": ""
             }
            },
            "type": "scatterpolargl"
           }
          ],
          "scatterternary": [
           {
            "marker": {
             "colorbar": {
              "outlinewidth": 0,
              "ticks": ""
             }
            },
            "type": "scatterternary"
           }
          ],
          "surface": [
           {
            "colorbar": {
             "outlinewidth": 0,
             "ticks": ""
            },
            "colorscale": [
             [
              0,
              "#0d0887"
             ],
             [
              0.1111111111111111,
              "#46039f"
             ],
             [
              0.2222222222222222,
              "#7201a8"
             ],
             [
              0.3333333333333333,
              "#9c179e"
             ],
             [
              0.4444444444444444,
              "#bd3786"
             ],
             [
              0.5555555555555556,
              "#d8576b"
             ],
             [
              0.6666666666666666,
              "#ed7953"
             ],
             [
              0.7777777777777778,
              "#fb9f3a"
             ],
             [
              0.8888888888888888,
              "#fdca26"
             ],
             [
              1,
              "#f0f921"
             ]
            ],
            "type": "surface"
           }
          ],
          "table": [
           {
            "cells": {
             "fill": {
              "color": "#EBF0F8"
             },
             "line": {
              "color": "white"
             }
            },
            "header": {
             "fill": {
              "color": "#C8D4E3"
             },
             "line": {
              "color": "white"
             }
            },
            "type": "table"
           }
          ]
         },
         "layout": {
          "annotationdefaults": {
           "arrowcolor": "#2a3f5f",
           "arrowhead": 0,
           "arrowwidth": 1
          },
          "autotypenumbers": "strict",
          "coloraxis": {
           "colorbar": {
            "outlinewidth": 0,
            "ticks": ""
           }
          },
          "colorscale": {
           "diverging": [
            [
             0,
             "#8e0152"
            ],
            [
             0.1,
             "#c51b7d"
            ],
            [
             0.2,
             "#de77ae"
            ],
            [
             0.3,
             "#f1b6da"
            ],
            [
             0.4,
             "#fde0ef"
            ],
            [
             0.5,
             "#f7f7f7"
            ],
            [
             0.6,
             "#e6f5d0"
            ],
            [
             0.7,
             "#b8e186"
            ],
            [
             0.8,
             "#7fbc41"
            ],
            [
             0.9,
             "#4d9221"
            ],
            [
             1,
             "#276419"
            ]
           ],
           "sequential": [
            [
             0,
             "#0d0887"
            ],
            [
             0.1111111111111111,
             "#46039f"
            ],
            [
             0.2222222222222222,
             "#7201a8"
            ],
            [
             0.3333333333333333,
             "#9c179e"
            ],
            [
             0.4444444444444444,
             "#bd3786"
            ],
            [
             0.5555555555555556,
             "#d8576b"
            ],
            [
             0.6666666666666666,
             "#ed7953"
            ],
            [
             0.7777777777777778,
             "#fb9f3a"
            ],
            [
             0.8888888888888888,
             "#fdca26"
            ],
            [
             1,
             "#f0f921"
            ]
           ],
           "sequentialminus": [
            [
             0,
             "#0d0887"
            ],
            [
             0.1111111111111111,
             "#46039f"
            ],
            [
             0.2222222222222222,
             "#7201a8"
            ],
            [
             0.3333333333333333,
             "#9c179e"
            ],
            [
             0.4444444444444444,
             "#bd3786"
            ],
            [
             0.5555555555555556,
             "#d8576b"
            ],
            [
             0.6666666666666666,
             "#ed7953"
            ],
            [
             0.7777777777777778,
             "#fb9f3a"
            ],
            [
             0.8888888888888888,
             "#fdca26"
            ],
            [
             1,
             "#f0f921"
            ]
           ]
          },
          "colorway": [
           "#636efa",
           "#EF553B",
           "#00cc96",
           "#ab63fa",
           "#FFA15A",
           "#19d3f3",
           "#FF6692",
           "#B6E880",
           "#FF97FF",
           "#FECB52"
          ],
          "font": {
           "color": "#2a3f5f"
          },
          "geo": {
           "bgcolor": "white",
           "lakecolor": "white",
           "landcolor": "#E5ECF6",
           "showlakes": true,
           "showland": true,
           "subunitcolor": "white"
          },
          "hoverlabel": {
           "align": "left"
          },
          "hovermode": "closest",
          "mapbox": {
           "style": "light"
          },
          "paper_bgcolor": "white",
          "plot_bgcolor": "#E5ECF6",
          "polar": {
           "angularaxis": {
            "gridcolor": "white",
            "linecolor": "white",
            "ticks": ""
           },
           "bgcolor": "#E5ECF6",
           "radialaxis": {
            "gridcolor": "white",
            "linecolor": "white",
            "ticks": ""
           }
          },
          "scene": {
           "xaxis": {
            "backgroundcolor": "#E5ECF6",
            "gridcolor": "white",
            "gridwidth": 2,
            "linecolor": "white",
            "showbackground": true,
            "ticks": "",
            "zerolinecolor": "white"
           },
           "yaxis": {
            "backgroundcolor": "#E5ECF6",
            "gridcolor": "white",
            "gridwidth": 2,
            "linecolor": "white",
            "showbackground": true,
            "ticks": "",
            "zerolinecolor": "white"
           },
           "zaxis": {
            "backgroundcolor": "#E5ECF6",
            "gridcolor": "white",
            "gridwidth": 2,
            "linecolor": "white",
            "showbackground": true,
            "ticks": "",
            "zerolinecolor": "white"
           }
          },
          "shapedefaults": {
           "line": {
            "color": "#2a3f5f"
           }
          },
          "ternary": {
           "aaxis": {
            "gridcolor": "white",
            "linecolor": "white",
            "ticks": ""
           },
           "baxis": {
            "gridcolor": "white",
            "linecolor": "white",
            "ticks": ""
           },
           "bgcolor": "#E5ECF6",
           "caxis": {
            "gridcolor": "white",
            "linecolor": "white",
            "ticks": ""
           }
          },
          "title": {
           "x": 0.05
          },
          "xaxis": {
           "automargin": true,
           "gridcolor": "white",
           "linecolor": "white",
           "ticks": "",
           "title": {
            "standoff": 15
           },
           "zerolinecolor": "white",
           "zerolinewidth": 2
          },
          "yaxis": {
           "automargin": true,
           "gridcolor": "white",
           "linecolor": "white",
           "ticks": "",
           "title": {
            "standoff": 15
           },
           "zerolinecolor": "white",
           "zerolinewidth": 2
          }
         }
        },
        "title": {
         "text": "Variação explicada por cada componente (Nº componente escolhida: 13)"
        },
        "xaxis": {
         "anchor": "y",
         "domain": [
          0,
          1
         ],
         "title": {
          "text": "# Components"
         }
        },
        "yaxis": {
         "anchor": "x",
         "domain": [
          0,
          1
         ],
         "title": {
          "text": "Explained Variance"
         }
        }
       }
      }
     },
     "metadata": {},
     "output_type": "display_data"
    }
   ],
   "source": [
    "pca = PCA(random_state=pca_r_state)\n",
    "pca.fit(df_enem.to_numpy())\n",
    "exp_var_cumul = np.cumsum(pca.explained_variance_ratio_)\n",
    "\n",
    "n_components = np.argmax(exp_var_cumul >= 0.8) + 1\n",
    "\n",
    "# Se você só botar um número decimal entre 0 e 1\n",
    "# o PCA automaticamente determinar o número de\n",
    "# componentes que explicam a variância explicada almejada\n",
    "exp_variance_almejada = 0.8\n",
    "\n",
    "px.area(\n",
    "    x=range(1, exp_var_cumul.shape[0] + 1),\n",
    "    y=exp_var_cumul,\n",
    "    labels={\"x\": \"# Components\", \"y\": \"Explained Variance\"},\n",
    "    title=f\"Variação explicada por cada componente (Nº componente escolhida: {n_components})\",\n",
    ")"
   ]
  },
  {
   "cell_type": "code",
   "execution_count": 6,
   "metadata": {},
   "outputs": [
    {
     "data": {
      "text/html": [
       "<div>\n",
       "<style scoped>\n",
       "    .dataframe tbody tr th:only-of-type {\n",
       "        vertical-align: middle;\n",
       "    }\n",
       "\n",
       "    .dataframe tbody tr th {\n",
       "        vertical-align: top;\n",
       "    }\n",
       "\n",
       "    .dataframe thead th {\n",
       "        text-align: right;\n",
       "    }\n",
       "</style>\n",
       "<table border=\"1\" class=\"dataframe\">\n",
       "  <thead>\n",
       "    <tr style=\"text-align: right;\">\n",
       "      <th></th>\n",
       "      <th>pc1</th>\n",
       "      <th>pc2</th>\n",
       "      <th>pc3</th>\n",
       "      <th>pc4</th>\n",
       "      <th>pc5</th>\n",
       "      <th>pc6</th>\n",
       "      <th>pc7</th>\n",
       "      <th>pc8</th>\n",
       "      <th>pc9</th>\n",
       "      <th>pc10</th>\n",
       "      <th>pc11</th>\n",
       "      <th>pc12</th>\n",
       "      <th>pc13</th>\n",
       "    </tr>\n",
       "  </thead>\n",
       "  <tbody>\n",
       "    <tr>\n",
       "      <th>0</th>\n",
       "      <td>0.080772</td>\n",
       "      <td>-0.762073</td>\n",
       "      <td>0.785344</td>\n",
       "      <td>-0.199763</td>\n",
       "      <td>-0.054474</td>\n",
       "      <td>0.049956</td>\n",
       "      <td>0.085050</td>\n",
       "      <td>-0.540186</td>\n",
       "      <td>0.122072</td>\n",
       "      <td>-0.009362</td>\n",
       "      <td>-0.204898</td>\n",
       "      <td>0.117835</td>\n",
       "      <td>0.051410</td>\n",
       "    </tr>\n",
       "    <tr>\n",
       "      <th>1</th>\n",
       "      <td>-0.393375</td>\n",
       "      <td>-0.548348</td>\n",
       "      <td>0.338719</td>\n",
       "      <td>0.221931</td>\n",
       "      <td>0.016531</td>\n",
       "      <td>-0.173464</td>\n",
       "      <td>-0.307263</td>\n",
       "      <td>-0.246616</td>\n",
       "      <td>-0.040627</td>\n",
       "      <td>-0.236042</td>\n",
       "      <td>0.013228</td>\n",
       "      <td>0.149151</td>\n",
       "      <td>-0.062164</td>\n",
       "    </tr>\n",
       "    <tr>\n",
       "      <th>2</th>\n",
       "      <td>0.776151</td>\n",
       "      <td>0.015068</td>\n",
       "      <td>-0.138434</td>\n",
       "      <td>-0.401179</td>\n",
       "      <td>-0.118830</td>\n",
       "      <td>0.141522</td>\n",
       "      <td>0.238751</td>\n",
       "      <td>-0.504722</td>\n",
       "      <td>0.119801</td>\n",
       "      <td>-0.021895</td>\n",
       "      <td>-0.216883</td>\n",
       "      <td>0.090682</td>\n",
       "      <td>0.061713</td>\n",
       "    </tr>\n",
       "    <tr>\n",
       "      <th>3</th>\n",
       "      <td>-0.298046</td>\n",
       "      <td>-0.212125</td>\n",
       "      <td>-0.284790</td>\n",
       "      <td>0.008430</td>\n",
       "      <td>-0.069643</td>\n",
       "      <td>-0.025388</td>\n",
       "      <td>0.005119</td>\n",
       "      <td>0.034026</td>\n",
       "      <td>-0.003387</td>\n",
       "      <td>0.037279</td>\n",
       "      <td>0.015956</td>\n",
       "      <td>-0.047916</td>\n",
       "      <td>-0.000200</td>\n",
       "    </tr>\n",
       "    <tr>\n",
       "      <th>4</th>\n",
       "      <td>-0.112868</td>\n",
       "      <td>-0.191350</td>\n",
       "      <td>-0.089860</td>\n",
       "      <td>0.090640</td>\n",
       "      <td>-0.013206</td>\n",
       "      <td>-0.043427</td>\n",
       "      <td>0.032071</td>\n",
       "      <td>0.104094</td>\n",
       "      <td>0.030599</td>\n",
       "      <td>0.156165</td>\n",
       "      <td>0.022743</td>\n",
       "      <td>-0.053975</td>\n",
       "      <td>0.017265</td>\n",
       "    </tr>\n",
       "    <tr>\n",
       "      <th>...</th>\n",
       "      <td>...</td>\n",
       "      <td>...</td>\n",
       "      <td>...</td>\n",
       "      <td>...</td>\n",
       "      <td>...</td>\n",
       "      <td>...</td>\n",
       "      <td>...</td>\n",
       "      <td>...</td>\n",
       "      <td>...</td>\n",
       "      <td>...</td>\n",
       "      <td>...</td>\n",
       "      <td>...</td>\n",
       "      <td>...</td>\n",
       "    </tr>\n",
       "    <tr>\n",
       "      <th>176574</th>\n",
       "      <td>0.690036</td>\n",
       "      <td>0.275459</td>\n",
       "      <td>-0.179738</td>\n",
       "      <td>0.192363</td>\n",
       "      <td>0.070071</td>\n",
       "      <td>-0.119768</td>\n",
       "      <td>-0.097107</td>\n",
       "      <td>-0.064469</td>\n",
       "      <td>0.026961</td>\n",
       "      <td>-0.002592</td>\n",
       "      <td>0.017000</td>\n",
       "      <td>0.109585</td>\n",
       "      <td>-0.016937</td>\n",
       "    </tr>\n",
       "    <tr>\n",
       "      <th>176575</th>\n",
       "      <td>-0.864842</td>\n",
       "      <td>0.316885</td>\n",
       "      <td>-0.248852</td>\n",
       "      <td>-0.297564</td>\n",
       "      <td>-0.790837</td>\n",
       "      <td>-0.036312</td>\n",
       "      <td>-0.041148</td>\n",
       "      <td>-0.010111</td>\n",
       "      <td>0.254087</td>\n",
       "      <td>-0.300741</td>\n",
       "      <td>-0.073473</td>\n",
       "      <td>-0.255974</td>\n",
       "      <td>-0.679935</td>\n",
       "    </tr>\n",
       "    <tr>\n",
       "      <th>176576</th>\n",
       "      <td>-0.690970</td>\n",
       "      <td>-0.464786</td>\n",
       "      <td>-0.921494</td>\n",
       "      <td>-0.172441</td>\n",
       "      <td>-0.288681</td>\n",
       "      <td>-0.029161</td>\n",
       "      <td>-0.171940</td>\n",
       "      <td>-0.371105</td>\n",
       "      <td>-0.857430</td>\n",
       "      <td>0.223314</td>\n",
       "      <td>-0.043965</td>\n",
       "      <td>0.255782</td>\n",
       "      <td>0.331875</td>\n",
       "    </tr>\n",
       "    <tr>\n",
       "      <th>176577</th>\n",
       "      <td>-0.095767</td>\n",
       "      <td>-0.509821</td>\n",
       "      <td>0.567618</td>\n",
       "      <td>0.561371</td>\n",
       "      <td>0.035605</td>\n",
       "      <td>-0.666054</td>\n",
       "      <td>-0.746404</td>\n",
       "      <td>-0.182828</td>\n",
       "      <td>0.341725</td>\n",
       "      <td>0.691652</td>\n",
       "      <td>-0.216274</td>\n",
       "      <td>-0.045458</td>\n",
       "      <td>0.064502</td>\n",
       "    </tr>\n",
       "    <tr>\n",
       "      <th>176578</th>\n",
       "      <td>0.814776</td>\n",
       "      <td>-0.243723</td>\n",
       "      <td>-0.261948</td>\n",
       "      <td>-0.970293</td>\n",
       "      <td>-0.086223</td>\n",
       "      <td>0.096923</td>\n",
       "      <td>-0.035952</td>\n",
       "      <td>-0.058753</td>\n",
       "      <td>-0.113819</td>\n",
       "      <td>-0.304789</td>\n",
       "      <td>-0.017172</td>\n",
       "      <td>-0.015021</td>\n",
       "      <td>-0.018338</td>\n",
       "    </tr>\n",
       "  </tbody>\n",
       "</table>\n",
       "<p>176579 rows × 13 columns</p>\n",
       "</div>"
      ],
      "text/plain": [
       "             pc1       pc2       pc3       pc4       pc5       pc6       pc7  \\\n",
       "0       0.080772 -0.762073  0.785344 -0.199763 -0.054474  0.049956  0.085050   \n",
       "1      -0.393375 -0.548348  0.338719  0.221931  0.016531 -0.173464 -0.307263   \n",
       "2       0.776151  0.015068 -0.138434 -0.401179 -0.118830  0.141522  0.238751   \n",
       "3      -0.298046 -0.212125 -0.284790  0.008430 -0.069643 -0.025388  0.005119   \n",
       "4      -0.112868 -0.191350 -0.089860  0.090640 -0.013206 -0.043427  0.032071   \n",
       "...          ...       ...       ...       ...       ...       ...       ...   \n",
       "176574  0.690036  0.275459 -0.179738  0.192363  0.070071 -0.119768 -0.097107   \n",
       "176575 -0.864842  0.316885 -0.248852 -0.297564 -0.790837 -0.036312 -0.041148   \n",
       "176576 -0.690970 -0.464786 -0.921494 -0.172441 -0.288681 -0.029161 -0.171940   \n",
       "176577 -0.095767 -0.509821  0.567618  0.561371  0.035605 -0.666054 -0.746404   \n",
       "176578  0.814776 -0.243723 -0.261948 -0.970293 -0.086223  0.096923 -0.035952   \n",
       "\n",
       "             pc8       pc9      pc10      pc11      pc12      pc13  \n",
       "0      -0.540186  0.122072 -0.009362 -0.204898  0.117835  0.051410  \n",
       "1      -0.246616 -0.040627 -0.236042  0.013228  0.149151 -0.062164  \n",
       "2      -0.504722  0.119801 -0.021895 -0.216883  0.090682  0.061713  \n",
       "3       0.034026 -0.003387  0.037279  0.015956 -0.047916 -0.000200  \n",
       "4       0.104094  0.030599  0.156165  0.022743 -0.053975  0.017265  \n",
       "...          ...       ...       ...       ...       ...       ...  \n",
       "176574 -0.064469  0.026961 -0.002592  0.017000  0.109585 -0.016937  \n",
       "176575 -0.010111  0.254087 -0.300741 -0.073473 -0.255974 -0.679935  \n",
       "176576 -0.371105 -0.857430  0.223314 -0.043965  0.255782  0.331875  \n",
       "176577 -0.182828  0.341725  0.691652 -0.216274 -0.045458  0.064502  \n",
       "176578 -0.058753 -0.113819 -0.304789 -0.017172 -0.015021 -0.018338  \n",
       "\n",
       "[176579 rows x 13 columns]"
      ]
     },
     "execution_count": 6,
     "metadata": {},
     "output_type": "execute_result"
    }
   ],
   "source": [
    "components_columns = [\"pc\" + str(i) for i in range(1, n_components + 1)]\n",
    "\n",
    "pca = PCA(n_components=exp_variance_almejada, random_state=pca_r_state)\n",
    "components = pca.fit_transform(df_enem.to_numpy())\n",
    "df_new = pd.DataFrame(data=components, columns=components_columns)\n",
    "df_new.columns = components_columns\n",
    "df_new.dropna(inplace=True)\n",
    "\n",
    "df_new"
   ]
  },
  {
   "cell_type": "markdown",
   "metadata": {},
   "source": [
    "### Descobrindo o melhor valor de K (Qtd. de Clusters) com base no método do cotovelo\n"
   ]
  },
  {
   "cell_type": "code",
   "execution_count": 7,
   "metadata": {
    "tags": []
   },
   "outputs": [
    {
     "data": {
      "image/png": "[encoded data removed]",
      "text/plain": [
       "<Figure size 800x550 with 2 Axes>"
      ]
     },
     "metadata": {},
     "output_type": "display_data"
    }
   ],
   "source": [
    "model = KMeans(random_state=kmeans_r_state)\n",
    "visualizer = KElbowVisualizer(model, k=(2, 12))\n",
    "\n",
    "X_kmeans = df_new.to_numpy()\n",
    "\n",
    "visualizer.fit(X_kmeans)\n",
    "\n",
    "k = visualizer.elbow_value_\n",
    "\n",
    "_ = visualizer.show()"
   ]
  },
  {
   "cell_type": "markdown",
   "metadata": {},
   "source": [
    "### Descobrindo o número de componentes com a melhor silhueta.\n"
   ]
  },
  {
   "cell_type": "code",
   "execution_count": 102,
   "metadata": {},
   "outputs": [
    {
     "data": {
      "text/html": [
       "<div>\n",
       "<style scoped>\n",
       "    .dataframe tbody tr th:only-of-type {\n",
       "        vertical-align: middle;\n",
       "    }\n",
       "\n",
       "    .dataframe tbody tr th {\n",
       "        vertical-align: top;\n",
       "    }\n",
       "\n",
       "    .dataframe thead th {\n",
       "        text-align: right;\n",
       "    }\n",
       "</style>\n",
       "<table border=\"1\" class=\"dataframe\">\n",
       "  <thead>\n",
       "    <tr style=\"text-align: right;\">\n",
       "      <th></th>\n",
       "      <th>n_components</th>\n",
       "      <th>silhouette_score</th>\n",
       "    </tr>\n",
       "  </thead>\n",
       "  <tbody>\n",
       "    <tr>\n",
       "      <th>0</th>\n",
       "      <td>2</td>\n",
       "      <td>0.503366</td>\n",
       "    </tr>\n",
       "    <tr>\n",
       "      <th>1</th>\n",
       "      <td>3</td>\n",
       "      <td>0.464662</td>\n",
       "    </tr>\n",
       "    <tr>\n",
       "      <th>2</th>\n",
       "      <td>4</td>\n",
       "      <td>0.401464</td>\n",
       "    </tr>\n",
       "    <tr>\n",
       "      <th>3</th>\n",
       "      <td>5</td>\n",
       "      <td>0.350788</td>\n",
       "    </tr>\n",
       "    <tr>\n",
       "      <th>4</th>\n",
       "      <td>6</td>\n",
       "      <td>0.313534</td>\n",
       "    </tr>\n",
       "    <tr>\n",
       "      <th>5</th>\n",
       "      <td>7</td>\n",
       "      <td>0.277441</td>\n",
       "    </tr>\n",
       "    <tr>\n",
       "      <th>6</th>\n",
       "      <td>8</td>\n",
       "      <td>0.257700</td>\n",
       "    </tr>\n",
       "    <tr>\n",
       "      <th>7</th>\n",
       "      <td>9</td>\n",
       "      <td>0.247142</td>\n",
       "    </tr>\n",
       "    <tr>\n",
       "      <th>9</th>\n",
       "      <td>11</td>\n",
       "      <td>0.225049</td>\n",
       "    </tr>\n",
       "    <tr>\n",
       "      <th>10</th>\n",
       "      <td>12</td>\n",
       "      <td>0.211377</td>\n",
       "    </tr>\n",
       "    <tr>\n",
       "      <th>11</th>\n",
       "      <td>13</td>\n",
       "      <td>0.202201</td>\n",
       "    </tr>\n",
       "    <tr>\n",
       "      <th>14</th>\n",
       "      <td>16</td>\n",
       "      <td>0.198671</td>\n",
       "    </tr>\n",
       "    <tr>\n",
       "      <th>8</th>\n",
       "      <td>10</td>\n",
       "      <td>0.191152</td>\n",
       "    </tr>\n",
       "    <tr>\n",
       "      <th>12</th>\n",
       "      <td>14</td>\n",
       "      <td>0.185792</td>\n",
       "    </tr>\n",
       "    <tr>\n",
       "      <th>15</th>\n",
       "      <td>17</td>\n",
       "      <td>0.182460</td>\n",
       "    </tr>\n",
       "    <tr>\n",
       "      <th>13</th>\n",
       "      <td>15</td>\n",
       "      <td>0.180626</td>\n",
       "    </tr>\n",
       "    <tr>\n",
       "      <th>16</th>\n",
       "      <td>18</td>\n",
       "      <td>0.176377</td>\n",
       "    </tr>\n",
       "    <tr>\n",
       "      <th>17</th>\n",
       "      <td>19</td>\n",
       "      <td>0.163322</td>\n",
       "    </tr>\n",
       "  </tbody>\n",
       "</table>\n",
       "</div>"
      ],
      "text/plain": [
       "    n_components  silhouette_score\n",
       "0              2          0.503366\n",
       "1              3          0.464662\n",
       "2              4          0.401464\n",
       "3              5          0.350788\n",
       "4              6          0.313534\n",
       "5              7          0.277441\n",
       "6              8          0.257700\n",
       "7              9          0.247142\n",
       "9             11          0.225049\n",
       "10            12          0.211377\n",
       "11            13          0.202201\n",
       "14            16          0.198671\n",
       "8             10          0.191152\n",
       "12            14          0.185792\n",
       "15            17          0.182460\n",
       "13            15          0.180626\n",
       "16            18          0.176377\n",
       "17            19          0.163322"
      ]
     },
     "execution_count": 102,
     "metadata": {},
     "output_type": "execute_result"
    }
   ],
   "source": [
    "df_sis = pd.DataFrame(\n",
    "    columns=[\"n_components\", \"silhouette_score\"],\n",
    ")\n",
    "\n",
    "for i in range(2, 20):\n",
    "    n_components_teste = i\n",
    "    components_columns_teste = [\"pc\" + str(i) for i in range(1, n_components_teste + 1)]\n",
    "\n",
    "    pca = PCA(n_components=n_components_teste, random_state=pca_r_state)\n",
    "    components_teste = pca.fit_transform(df_enem.to_numpy())\n",
    "    df_new_teste = pd.DataFrame(data=components_teste, columns=components_columns_teste)\n",
    "    df_new_teste.columns = components_columns_teste\n",
    "    df_new_teste.dropna(inplace=True)\n",
    "\n",
    "    X_kmeans_teste = df_new_teste.to_numpy()\n",
    "\n",
    "    kmeans_teste = KMeans(n_clusters=k, random_state=kmeans_r_state)\n",
    "    kmeans_teste.fit(X_kmeans_teste)\n",
    "\n",
    "    sil_score = silhouette_score(\n",
    "        X_kmeans_teste,\n",
    "        kmeans_teste.labels_,\n",
    "        metric=\"euclidean\",\n",
    "        sample_size=50000,\n",
    "    )\n",
    "\n",
    "    df_sis.loc[len(df_sis)] = [n_components_teste, sil_score]\n",
    "\n",
    "# convert n_components column to int\n",
    "df_sis[\"n_components\"] = df_sis[\"n_components\"].astype(int)\n",
    "n_components = df_sis.loc[df_sis[\"silhouette_score\"].idxmax()][\"n_components\"]\n",
    "\n",
    "df_sis.sort_values(by=\"silhouette_score\", inplace=True, ascending=False)\n",
    "df_sis"
   ]
  },
  {
   "cell_type": "markdown",
   "metadata": {},
   "source": [
    "### Preparando o conjunto de dados com o número de componentes escolhido\n"
   ]
  },
  {
   "cell_type": "code",
   "execution_count": 8,
   "metadata": {},
   "outputs": [
    {
     "name": "stdout",
     "output_type": "stream",
     "text": [
      "Total Variance: 80.54%\n"
     ]
    },
    {
     "data": {
      "text/html": [
       "<div>\n",
       "<style scoped>\n",
       "    .dataframe tbody tr th:only-of-type {\n",
       "        vertical-align: middle;\n",
       "    }\n",
       "\n",
       "    .dataframe tbody tr th {\n",
       "        vertical-align: top;\n",
       "    }\n",
       "\n",
       "    .dataframe thead th {\n",
       "        text-align: right;\n",
       "    }\n",
       "</style>\n",
       "<table border=\"1\" class=\"dataframe\">\n",
       "  <thead>\n",
       "    <tr style=\"text-align: right;\">\n",
       "      <th></th>\n",
       "      <th>pc1</th>\n",
       "      <th>pc2</th>\n",
       "      <th>pc3</th>\n",
       "      <th>pc4</th>\n",
       "      <th>pc5</th>\n",
       "      <th>pc6</th>\n",
       "      <th>pc7</th>\n",
       "      <th>pc8</th>\n",
       "      <th>pc9</th>\n",
       "      <th>pc10</th>\n",
       "      <th>pc11</th>\n",
       "      <th>pc12</th>\n",
       "      <th>pc13</th>\n",
       "    </tr>\n",
       "  </thead>\n",
       "  <tbody>\n",
       "    <tr>\n",
       "      <th>0</th>\n",
       "      <td>0.080772</td>\n",
       "      <td>-0.762073</td>\n",
       "      <td>0.785344</td>\n",
       "      <td>-0.199764</td>\n",
       "      <td>-0.054483</td>\n",
       "      <td>0.049965</td>\n",
       "      <td>0.085057</td>\n",
       "      <td>-0.540182</td>\n",
       "      <td>0.122058</td>\n",
       "      <td>-0.009384</td>\n",
       "      <td>-0.204944</td>\n",
       "      <td>0.117868</td>\n",
       "      <td>0.051204</td>\n",
       "    </tr>\n",
       "    <tr>\n",
       "      <th>1</th>\n",
       "      <td>-0.393375</td>\n",
       "      <td>-0.548347</td>\n",
       "      <td>0.338718</td>\n",
       "      <td>0.221928</td>\n",
       "      <td>0.016524</td>\n",
       "      <td>-0.173460</td>\n",
       "      <td>-0.307259</td>\n",
       "      <td>-0.246581</td>\n",
       "      <td>-0.040625</td>\n",
       "      <td>-0.236048</td>\n",
       "      <td>0.013179</td>\n",
       "      <td>0.149297</td>\n",
       "      <td>-0.062338</td>\n",
       "    </tr>\n",
       "    <tr>\n",
       "      <th>2</th>\n",
       "      <td>0.776151</td>\n",
       "      <td>0.015068</td>\n",
       "      <td>-0.138433</td>\n",
       "      <td>-0.401180</td>\n",
       "      <td>-0.118839</td>\n",
       "      <td>0.141531</td>\n",
       "      <td>0.238757</td>\n",
       "      <td>-0.504716</td>\n",
       "      <td>0.119788</td>\n",
       "      <td>-0.021916</td>\n",
       "      <td>-0.216930</td>\n",
       "      <td>0.090747</td>\n",
       "      <td>0.061515</td>\n",
       "    </tr>\n",
       "    <tr>\n",
       "      <th>3</th>\n",
       "      <td>-0.298045</td>\n",
       "      <td>-0.212122</td>\n",
       "      <td>-0.284790</td>\n",
       "      <td>0.008414</td>\n",
       "      <td>-0.069669</td>\n",
       "      <td>-0.025346</td>\n",
       "      <td>0.005120</td>\n",
       "      <td>0.034136</td>\n",
       "      <td>-0.003425</td>\n",
       "      <td>0.037167</td>\n",
       "      <td>0.015733</td>\n",
       "      <td>-0.047331</td>\n",
       "      <td>-0.001086</td>\n",
       "    </tr>\n",
       "    <tr>\n",
       "      <th>4</th>\n",
       "      <td>-0.112868</td>\n",
       "      <td>-0.191347</td>\n",
       "      <td>-0.089860</td>\n",
       "      <td>0.090623</td>\n",
       "      <td>-0.013232</td>\n",
       "      <td>-0.043385</td>\n",
       "      <td>0.032071</td>\n",
       "      <td>0.104206</td>\n",
       "      <td>0.030562</td>\n",
       "      <td>0.156052</td>\n",
       "      <td>0.022517</td>\n",
       "      <td>-0.053376</td>\n",
       "      <td>0.016360</td>\n",
       "    </tr>\n",
       "    <tr>\n",
       "      <th>...</th>\n",
       "      <td>...</td>\n",
       "      <td>...</td>\n",
       "      <td>...</td>\n",
       "      <td>...</td>\n",
       "      <td>...</td>\n",
       "      <td>...</td>\n",
       "      <td>...</td>\n",
       "      <td>...</td>\n",
       "      <td>...</td>\n",
       "      <td>...</td>\n",
       "      <td>...</td>\n",
       "      <td>...</td>\n",
       "      <td>...</td>\n",
       "    </tr>\n",
       "    <tr>\n",
       "      <th>176574</th>\n",
       "      <td>0.690036</td>\n",
       "      <td>0.275459</td>\n",
       "      <td>-0.179739</td>\n",
       "      <td>0.192360</td>\n",
       "      <td>0.070063</td>\n",
       "      <td>-0.119760</td>\n",
       "      <td>-0.097103</td>\n",
       "      <td>-0.064441</td>\n",
       "      <td>0.026953</td>\n",
       "      <td>-0.002614</td>\n",
       "      <td>0.016944</td>\n",
       "      <td>0.109682</td>\n",
       "      <td>-0.017169</td>\n",
       "    </tr>\n",
       "    <tr>\n",
       "      <th>176575</th>\n",
       "      <td>-0.864843</td>\n",
       "      <td>0.316883</td>\n",
       "      <td>-0.248853</td>\n",
       "      <td>-0.297550</td>\n",
       "      <td>-0.790818</td>\n",
       "      <td>-0.036361</td>\n",
       "      <td>-0.041141</td>\n",
       "      <td>-0.010166</td>\n",
       "      <td>0.254156</td>\n",
       "      <td>-0.300570</td>\n",
       "      <td>-0.073253</td>\n",
       "      <td>-0.256313</td>\n",
       "      <td>-0.678971</td>\n",
       "    </tr>\n",
       "    <tr>\n",
       "      <th>176576</th>\n",
       "      <td>-0.690970</td>\n",
       "      <td>-0.464787</td>\n",
       "      <td>-0.921498</td>\n",
       "      <td>-0.172432</td>\n",
       "      <td>-0.288687</td>\n",
       "      <td>-0.029190</td>\n",
       "      <td>-0.171915</td>\n",
       "      <td>-0.371058</td>\n",
       "      <td>-0.857355</td>\n",
       "      <td>0.223508</td>\n",
       "      <td>-0.043842</td>\n",
       "      <td>0.255755</td>\n",
       "      <td>0.332502</td>\n",
       "    </tr>\n",
       "    <tr>\n",
       "      <th>176577</th>\n",
       "      <td>-0.095767</td>\n",
       "      <td>-0.509823</td>\n",
       "      <td>0.567619</td>\n",
       "      <td>0.561381</td>\n",
       "      <td>0.035622</td>\n",
       "      <td>-0.666075</td>\n",
       "      <td>-0.746409</td>\n",
       "      <td>-0.182901</td>\n",
       "      <td>0.341742</td>\n",
       "      <td>0.691724</td>\n",
       "      <td>-0.216121</td>\n",
       "      <td>-0.045788</td>\n",
       "      <td>0.065079</td>\n",
       "    </tr>\n",
       "    <tr>\n",
       "      <th>176578</th>\n",
       "      <td>0.814776</td>\n",
       "      <td>-0.243723</td>\n",
       "      <td>-0.261948</td>\n",
       "      <td>-0.970291</td>\n",
       "      <td>-0.086218</td>\n",
       "      <td>0.096915</td>\n",
       "      <td>-0.035954</td>\n",
       "      <td>-0.058765</td>\n",
       "      <td>-0.113806</td>\n",
       "      <td>-0.304762</td>\n",
       "      <td>-0.017130</td>\n",
       "      <td>-0.015052</td>\n",
       "      <td>-0.018150</td>\n",
       "    </tr>\n",
       "  </tbody>\n",
       "</table>\n",
       "<p>176579 rows × 13 columns</p>\n",
       "</div>"
      ],
      "text/plain": [
       "             pc1       pc2       pc3       pc4       pc5       pc6       pc7  \\\n",
       "0       0.080772 -0.762073  0.785344 -0.199764 -0.054483  0.049965  0.085057   \n",
       "1      -0.393375 -0.548347  0.338718  0.221928  0.016524 -0.173460 -0.307259   \n",
       "2       0.776151  0.015068 -0.138433 -0.401180 -0.118839  0.141531  0.238757   \n",
       "3      -0.298045 -0.212122 -0.284790  0.008414 -0.069669 -0.025346  0.005120   \n",
       "4      -0.112868 -0.191347 -0.089860  0.090623 -0.013232 -0.043385  0.032071   \n",
       "...          ...       ...       ...       ...       ...       ...       ...   \n",
       "176574  0.690036  0.275459 -0.179739  0.192360  0.070063 -0.119760 -0.097103   \n",
       "176575 -0.864843  0.316883 -0.248853 -0.297550 -0.790818 -0.036361 -0.041141   \n",
       "176576 -0.690970 -0.464787 -0.921498 -0.172432 -0.288687 -0.029190 -0.171915   \n",
       "176577 -0.095767 -0.509823  0.567619  0.561381  0.035622 -0.666075 -0.746409   \n",
       "176578  0.814776 -0.243723 -0.261948 -0.970291 -0.086218  0.096915 -0.035954   \n",
       "\n",
       "             pc8       pc9      pc10      pc11      pc12      pc13  \n",
       "0      -0.540182  0.122058 -0.009384 -0.204944  0.117868  0.051204  \n",
       "1      -0.246581 -0.040625 -0.236048  0.013179  0.149297 -0.062338  \n",
       "2      -0.504716  0.119788 -0.021916 -0.216930  0.090747  0.061515  \n",
       "3       0.034136 -0.003425  0.037167  0.015733 -0.047331 -0.001086  \n",
       "4       0.104206  0.030562  0.156052  0.022517 -0.053376  0.016360  \n",
       "...          ...       ...       ...       ...       ...       ...  \n",
       "176574 -0.064441  0.026953 -0.002614  0.016944  0.109682 -0.017169  \n",
       "176575 -0.010166  0.254156 -0.300570 -0.073253 -0.256313 -0.678971  \n",
       "176576 -0.371058 -0.857355  0.223508 -0.043842  0.255755  0.332502  \n",
       "176577 -0.182901  0.341742  0.691724 -0.216121 -0.045788  0.065079  \n",
       "176578 -0.058765 -0.113806 -0.304762 -0.017130 -0.015052 -0.018150  \n",
       "\n",
       "[176579 rows x 13 columns]"
      ]
     },
     "execution_count": 8,
     "metadata": {},
     "output_type": "execute_result"
    }
   ],
   "source": [
    "n_components = 13 # int(n_components)\n",
    "\n",
    "components_columns = [\"pc\" + str(i) for i in range(1, n_components + 1)]\n",
    "\n",
    "pca = PCA(n_components=n_components, random_state=pca_r_state)\n",
    "components = pca.fit_transform(df_enem.to_numpy())\n",
    "\n",
    "df_new = pd.DataFrame(data=components, columns=components_columns)\n",
    "df_new.columns = components_columns\n",
    "df_new.dropna(inplace=True)\n",
    "\n",
    "total_var = pca.explained_variance_ratio_.sum()\n",
    "print(f\"Total Variance: {total_var:.2%}\")\n",
    "\n",
    "df_new"
   ]
  },
  {
   "cell_type": "markdown",
   "metadata": {},
   "source": [
    "### Rotulando os dados com base no agrupamento realizado\n"
   ]
  },
  {
   "cell_type": "code",
   "execution_count": 9,
   "metadata": {},
   "outputs": [
    {
     "data": {
      "text/html": [
       "<div>\n",
       "<style scoped>\n",
       "    .dataframe tbody tr th:only-of-type {\n",
       "        vertical-align: middle;\n",
       "    }\n",
       "\n",
       "    .dataframe tbody tr th {\n",
       "        vertical-align: top;\n",
       "    }\n",
       "\n",
       "    .dataframe thead th {\n",
       "        text-align: right;\n",
       "    }\n",
       "</style>\n",
       "<table border=\"1\" class=\"dataframe\">\n",
       "  <thead>\n",
       "    <tr style=\"text-align: right;\">\n",
       "      <th></th>\n",
       "      <th>pc1</th>\n",
       "      <th>pc2</th>\n",
       "      <th>pc3</th>\n",
       "      <th>pc4</th>\n",
       "      <th>pc5</th>\n",
       "      <th>pc6</th>\n",
       "      <th>pc7</th>\n",
       "      <th>pc8</th>\n",
       "      <th>pc9</th>\n",
       "      <th>pc10</th>\n",
       "      <th>pc11</th>\n",
       "      <th>pc12</th>\n",
       "      <th>pc13</th>\n",
       "      <th>label</th>\n",
       "    </tr>\n",
       "  </thead>\n",
       "  <tbody>\n",
       "    <tr>\n",
       "      <th>0</th>\n",
       "      <td>0.080772</td>\n",
       "      <td>-0.762073</td>\n",
       "      <td>0.785344</td>\n",
       "      <td>-0.199764</td>\n",
       "      <td>-0.054483</td>\n",
       "      <td>0.049965</td>\n",
       "      <td>0.085057</td>\n",
       "      <td>-0.540182</td>\n",
       "      <td>0.122058</td>\n",
       "      <td>-0.009384</td>\n",
       "      <td>-0.204944</td>\n",
       "      <td>0.117868</td>\n",
       "      <td>0.051204</td>\n",
       "      <td>0</td>\n",
       "    </tr>\n",
       "    <tr>\n",
       "      <th>1</th>\n",
       "      <td>-0.393375</td>\n",
       "      <td>-0.548347</td>\n",
       "      <td>0.338718</td>\n",
       "      <td>0.221928</td>\n",
       "      <td>0.016524</td>\n",
       "      <td>-0.173460</td>\n",
       "      <td>-0.307259</td>\n",
       "      <td>-0.246581</td>\n",
       "      <td>-0.040625</td>\n",
       "      <td>-0.236048</td>\n",
       "      <td>0.013179</td>\n",
       "      <td>0.149297</td>\n",
       "      <td>-0.062338</td>\n",
       "      <td>3</td>\n",
       "    </tr>\n",
       "    <tr>\n",
       "      <th>2</th>\n",
       "      <td>0.776151</td>\n",
       "      <td>0.015068</td>\n",
       "      <td>-0.138433</td>\n",
       "      <td>-0.401180</td>\n",
       "      <td>-0.118839</td>\n",
       "      <td>0.141531</td>\n",
       "      <td>0.238757</td>\n",
       "      <td>-0.504716</td>\n",
       "      <td>0.119788</td>\n",
       "      <td>-0.021916</td>\n",
       "      <td>-0.216930</td>\n",
       "      <td>0.090747</td>\n",
       "      <td>0.061515</td>\n",
       "      <td>2</td>\n",
       "    </tr>\n",
       "    <tr>\n",
       "      <th>3</th>\n",
       "      <td>-0.298045</td>\n",
       "      <td>-0.212122</td>\n",
       "      <td>-0.284790</td>\n",
       "      <td>0.008414</td>\n",
       "      <td>-0.069669</td>\n",
       "      <td>-0.025346</td>\n",
       "      <td>0.005120</td>\n",
       "      <td>0.034136</td>\n",
       "      <td>-0.003425</td>\n",
       "      <td>0.037167</td>\n",
       "      <td>0.015733</td>\n",
       "      <td>-0.047331</td>\n",
       "      <td>-0.001086</td>\n",
       "      <td>4</td>\n",
       "    </tr>\n",
       "    <tr>\n",
       "      <th>4</th>\n",
       "      <td>-0.112868</td>\n",
       "      <td>-0.191347</td>\n",
       "      <td>-0.089860</td>\n",
       "      <td>0.090623</td>\n",
       "      <td>-0.013232</td>\n",
       "      <td>-0.043385</td>\n",
       "      <td>0.032071</td>\n",
       "      <td>0.104206</td>\n",
       "      <td>0.030562</td>\n",
       "      <td>0.156052</td>\n",
       "      <td>0.022517</td>\n",
       "      <td>-0.053376</td>\n",
       "      <td>0.016360</td>\n",
       "      <td>3</td>\n",
       "    </tr>\n",
       "    <tr>\n",
       "      <th>...</th>\n",
       "      <td>...</td>\n",
       "      <td>...</td>\n",
       "      <td>...</td>\n",
       "      <td>...</td>\n",
       "      <td>...</td>\n",
       "      <td>...</td>\n",
       "      <td>...</td>\n",
       "      <td>...</td>\n",
       "      <td>...</td>\n",
       "      <td>...</td>\n",
       "      <td>...</td>\n",
       "      <td>...</td>\n",
       "      <td>...</td>\n",
       "      <td>...</td>\n",
       "    </tr>\n",
       "    <tr>\n",
       "      <th>176574</th>\n",
       "      <td>0.690036</td>\n",
       "      <td>0.275459</td>\n",
       "      <td>-0.179739</td>\n",
       "      <td>0.192360</td>\n",
       "      <td>0.070063</td>\n",
       "      <td>-0.119760</td>\n",
       "      <td>-0.097103</td>\n",
       "      <td>-0.064441</td>\n",
       "      <td>0.026953</td>\n",
       "      <td>-0.002614</td>\n",
       "      <td>0.016944</td>\n",
       "      <td>0.109682</td>\n",
       "      <td>-0.017169</td>\n",
       "      <td>2</td>\n",
       "    </tr>\n",
       "    <tr>\n",
       "      <th>176575</th>\n",
       "      <td>-0.864843</td>\n",
       "      <td>0.316883</td>\n",
       "      <td>-0.248853</td>\n",
       "      <td>-0.297550</td>\n",
       "      <td>-0.790818</td>\n",
       "      <td>-0.036361</td>\n",
       "      <td>-0.041141</td>\n",
       "      <td>-0.010166</td>\n",
       "      <td>0.254156</td>\n",
       "      <td>-0.300570</td>\n",
       "      <td>-0.073253</td>\n",
       "      <td>-0.256313</td>\n",
       "      <td>-0.678971</td>\n",
       "      <td>1</td>\n",
       "    </tr>\n",
       "    <tr>\n",
       "      <th>176576</th>\n",
       "      <td>-0.690970</td>\n",
       "      <td>-0.464787</td>\n",
       "      <td>-0.921498</td>\n",
       "      <td>-0.172432</td>\n",
       "      <td>-0.288687</td>\n",
       "      <td>-0.029190</td>\n",
       "      <td>-0.171915</td>\n",
       "      <td>-0.371058</td>\n",
       "      <td>-0.857355</td>\n",
       "      <td>0.223508</td>\n",
       "      <td>-0.043842</td>\n",
       "      <td>0.255755</td>\n",
       "      <td>0.332502</td>\n",
       "      <td>4</td>\n",
       "    </tr>\n",
       "    <tr>\n",
       "      <th>176577</th>\n",
       "      <td>-0.095767</td>\n",
       "      <td>-0.509823</td>\n",
       "      <td>0.567619</td>\n",
       "      <td>0.561381</td>\n",
       "      <td>0.035622</td>\n",
       "      <td>-0.666075</td>\n",
       "      <td>-0.746409</td>\n",
       "      <td>-0.182901</td>\n",
       "      <td>0.341742</td>\n",
       "      <td>0.691724</td>\n",
       "      <td>-0.216121</td>\n",
       "      <td>-0.045788</td>\n",
       "      <td>0.065079</td>\n",
       "      <td>3</td>\n",
       "    </tr>\n",
       "    <tr>\n",
       "      <th>176578</th>\n",
       "      <td>0.814776</td>\n",
       "      <td>-0.243723</td>\n",
       "      <td>-0.261948</td>\n",
       "      <td>-0.970291</td>\n",
       "      <td>-0.086218</td>\n",
       "      <td>0.096915</td>\n",
       "      <td>-0.035954</td>\n",
       "      <td>-0.058765</td>\n",
       "      <td>-0.113806</td>\n",
       "      <td>-0.304762</td>\n",
       "      <td>-0.017130</td>\n",
       "      <td>-0.015052</td>\n",
       "      <td>-0.018150</td>\n",
       "      <td>2</td>\n",
       "    </tr>\n",
       "  </tbody>\n",
       "</table>\n",
       "<p>176579 rows × 14 columns</p>\n",
       "</div>"
      ],
      "text/plain": [
       "             pc1       pc2       pc3       pc4       pc5       pc6       pc7  \\\n",
       "0       0.080772 -0.762073  0.785344 -0.199764 -0.054483  0.049965  0.085057   \n",
       "1      -0.393375 -0.548347  0.338718  0.221928  0.016524 -0.173460 -0.307259   \n",
       "2       0.776151  0.015068 -0.138433 -0.401180 -0.118839  0.141531  0.238757   \n",
       "3      -0.298045 -0.212122 -0.284790  0.008414 -0.069669 -0.025346  0.005120   \n",
       "4      -0.112868 -0.191347 -0.089860  0.090623 -0.013232 -0.043385  0.032071   \n",
       "...          ...       ...       ...       ...       ...       ...       ...   \n",
       "176574  0.690036  0.275459 -0.179739  0.192360  0.070063 -0.119760 -0.097103   \n",
       "176575 -0.864843  0.316883 -0.248853 -0.297550 -0.790818 -0.036361 -0.041141   \n",
       "176576 -0.690970 -0.464787 -0.921498 -0.172432 -0.288687 -0.029190 -0.171915   \n",
       "176577 -0.095767 -0.509823  0.567619  0.561381  0.035622 -0.666075 -0.746409   \n",
       "176578  0.814776 -0.243723 -0.261948 -0.970291 -0.086218  0.096915 -0.035954   \n",
       "\n",
       "             pc8       pc9      pc10      pc11      pc12      pc13  label  \n",
       "0      -0.540182  0.122058 -0.009384 -0.204944  0.117868  0.051204      0  \n",
       "1      -0.246581 -0.040625 -0.236048  0.013179  0.149297 -0.062338      3  \n",
       "2      -0.504716  0.119788 -0.021916 -0.216930  0.090747  0.061515      2  \n",
       "3       0.034136 -0.003425  0.037167  0.015733 -0.047331 -0.001086      4  \n",
       "4       0.104206  0.030562  0.156052  0.022517 -0.053376  0.016360      3  \n",
       "...          ...       ...       ...       ...       ...       ...    ...  \n",
       "176574 -0.064441  0.026953 -0.002614  0.016944  0.109682 -0.017169      2  \n",
       "176575 -0.010166  0.254156 -0.300570 -0.073253 -0.256313 -0.678971      1  \n",
       "176576 -0.371058 -0.857355  0.223508 -0.043842  0.255755  0.332502      4  \n",
       "176577 -0.182901  0.341742  0.691724 -0.216121 -0.045788  0.065079      3  \n",
       "176578 -0.058765 -0.113806 -0.304762 -0.017130 -0.015052 -0.018150      2  \n",
       "\n",
       "[176579 rows x 14 columns]"
      ]
     },
     "execution_count": 9,
     "metadata": {},
     "output_type": "execute_result"
    }
   ],
   "source": [
    "X_kmeans = df_new.to_numpy()\n",
    "\n",
    "kmeans = KMeans(n_clusters=k, random_state=kmeans_r_state)\n",
    "kmeans.fit(X_kmeans)\n",
    "\n",
    "df_new[\"label\"] = kmeans.labels_\n",
    "df_new.to_csv(f\"../data/out/enem-dados-tratados-ml.csv\", index=False)\n",
    "\n",
    "df_new"
   ]
  }
 ],
 "metadata": {
  "kernelspec": {
   "display_name": ".env",
   "language": "python",
   "name": "python3"
  },
  "language_info": {
   "codemirror_mode": {
    "name": "ipython",
    "version": 3
   },
   "file_extension": ".py",
   "mimetype": "text/x-python",
   "name": "python",
   "nbconvert_exporter": "python",
   "pygments_lexer": "ipython3",
   "version": "3.12.2"
  }
 },
 "nbformat": 4,
 "nbformat_minor": 2
}
